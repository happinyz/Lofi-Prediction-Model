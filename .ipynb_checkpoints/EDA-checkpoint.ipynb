{
 "cells": [
  {
   "cell_type": "code",
   "execution_count": 21,
   "metadata": {},
   "outputs": [],
   "source": [
    "import pandas as pd\n",
    "import matplotlib.pyplot as plt\n",
    "import seaborn as sns\n",
    "import numpy as np\n",
    "import ast"
   ]
  },
  {
   "cell_type": "code",
   "execution_count": 7,
   "metadata": {},
   "outputs": [],
   "source": [
    "df = pd.read_csv(\"Lofi_features.csv\")"
   ]
  },
  {
   "cell_type": "code",
   "execution_count": 8,
   "metadata": {},
   "outputs": [
    {
     "data": {
      "text/html": [
       "<div>\n",
       "<style scoped>\n",
       "    .dataframe tbody tr th:only-of-type {\n",
       "        vertical-align: middle;\n",
       "    }\n",
       "\n",
       "    .dataframe tbody tr th {\n",
       "        vertical-align: top;\n",
       "    }\n",
       "\n",
       "    .dataframe thead th {\n",
       "        text-align: right;\n",
       "    }\n",
       "</style>\n",
       "<table border=\"1\" class=\"dataframe\">\n",
       "  <thead>\n",
       "    <tr style=\"text-align: right;\">\n",
       "      <th></th>\n",
       "      <th>Song Name</th>\n",
       "      <th>Artist Names</th>\n",
       "      <th>Artist Genre</th>\n",
       "      <th>danceability</th>\n",
       "      <th>energy</th>\n",
       "      <th>key</th>\n",
       "      <th>loudness</th>\n",
       "      <th>mode</th>\n",
       "      <th>speechiness</th>\n",
       "      <th>acousticness</th>\n",
       "      <th>instrumentalness</th>\n",
       "      <th>liveness</th>\n",
       "      <th>valence</th>\n",
       "      <th>tempo</th>\n",
       "      <th>duration_ms</th>\n",
       "      <th>time_signature</th>\n",
       "    </tr>\n",
       "  </thead>\n",
       "  <tbody>\n",
       "    <tr>\n",
       "      <th>0</th>\n",
       "      <td>City Lounge</td>\n",
       "      <td>Saib</td>\n",
       "      <td>['chillhop', 'japanese chillhop', 'lo-fi beats']</td>\n",
       "      <td>0.807</td>\n",
       "      <td>0.576</td>\n",
       "      <td>4</td>\n",
       "      <td>-10.158</td>\n",
       "      <td>0</td>\n",
       "      <td>0.2960</td>\n",
       "      <td>0.04190</td>\n",
       "      <td>0.9310</td>\n",
       "      <td>0.1160</td>\n",
       "      <td>0.7710</td>\n",
       "      <td>169.999</td>\n",
       "      <td>158118</td>\n",
       "      <td>4</td>\n",
       "    </tr>\n",
       "    <tr>\n",
       "      <th>1</th>\n",
       "      <td>Sweet Dávila</td>\n",
       "      <td>Demouche</td>\n",
       "      <td>[]</td>\n",
       "      <td>0.873</td>\n",
       "      <td>0.417</td>\n",
       "      <td>6</td>\n",
       "      <td>-8.771</td>\n",
       "      <td>1</td>\n",
       "      <td>0.0427</td>\n",
       "      <td>0.20300</td>\n",
       "      <td>0.0616</td>\n",
       "      <td>0.6960</td>\n",
       "      <td>0.8410</td>\n",
       "      <td>92.955</td>\n",
       "      <td>235696</td>\n",
       "      <td>4</td>\n",
       "    </tr>\n",
       "    <tr>\n",
       "      <th>2</th>\n",
       "      <td>Do the Right Thing</td>\n",
       "      <td>Shuko</td>\n",
       "      <td>['chillhop']</td>\n",
       "      <td>0.815</td>\n",
       "      <td>0.738</td>\n",
       "      <td>5</td>\n",
       "      <td>-7.469</td>\n",
       "      <td>1</td>\n",
       "      <td>0.0453</td>\n",
       "      <td>0.21300</td>\n",
       "      <td>0.8640</td>\n",
       "      <td>0.2900</td>\n",
       "      <td>0.6330</td>\n",
       "      <td>91.024</td>\n",
       "      <td>121320</td>\n",
       "      <td>4</td>\n",
       "    </tr>\n",
       "    <tr>\n",
       "      <th>3</th>\n",
       "      <td>A Jazz Club in Paris</td>\n",
       "      <td>Clément Matrat</td>\n",
       "      <td>['focus beats']</td>\n",
       "      <td>0.751</td>\n",
       "      <td>0.173</td>\n",
       "      <td>10</td>\n",
       "      <td>-13.138</td>\n",
       "      <td>0</td>\n",
       "      <td>0.0402</td>\n",
       "      <td>0.34900</td>\n",
       "      <td>0.6780</td>\n",
       "      <td>0.0684</td>\n",
       "      <td>0.3540</td>\n",
       "      <td>80.020</td>\n",
       "      <td>90492</td>\n",
       "      <td>3</td>\n",
       "    </tr>\n",
       "    <tr>\n",
       "      <th>4</th>\n",
       "      <td>The Match</td>\n",
       "      <td>Bonus Points</td>\n",
       "      <td>['chillhop', 'jazz boom bap']</td>\n",
       "      <td>0.746</td>\n",
       "      <td>0.735</td>\n",
       "      <td>6</td>\n",
       "      <td>-8.026</td>\n",
       "      <td>1</td>\n",
       "      <td>0.0324</td>\n",
       "      <td>0.00675</td>\n",
       "      <td>0.1030</td>\n",
       "      <td>0.1870</td>\n",
       "      <td>0.5900</td>\n",
       "      <td>94.772</td>\n",
       "      <td>144328</td>\n",
       "      <td>4</td>\n",
       "    </tr>\n",
       "    <tr>\n",
       "      <th>5</th>\n",
       "      <td>Chillin'</td>\n",
       "      <td>twuan</td>\n",
       "      <td>['chillhop', 'lo-fi beats']</td>\n",
       "      <td>0.642</td>\n",
       "      <td>0.197</td>\n",
       "      <td>4</td>\n",
       "      <td>-14.052</td>\n",
       "      <td>0</td>\n",
       "      <td>0.0540</td>\n",
       "      <td>0.43500</td>\n",
       "      <td>0.8230</td>\n",
       "      <td>0.1110</td>\n",
       "      <td>0.2480</td>\n",
       "      <td>152.039</td>\n",
       "      <td>77241</td>\n",
       "      <td>4</td>\n",
       "    </tr>\n",
       "    <tr>\n",
       "      <th>6</th>\n",
       "      <td>Lazy Café</td>\n",
       "      <td>leaf beach</td>\n",
       "      <td>['chillhop', 'jazz boom bap', 'lo-fi beats']</td>\n",
       "      <td>0.666</td>\n",
       "      <td>0.150</td>\n",
       "      <td>4</td>\n",
       "      <td>-11.735</td>\n",
       "      <td>0</td>\n",
       "      <td>0.0628</td>\n",
       "      <td>0.18500</td>\n",
       "      <td>0.8440</td>\n",
       "      <td>0.0831</td>\n",
       "      <td>0.2470</td>\n",
       "      <td>87.050</td>\n",
       "      <td>145093</td>\n",
       "      <td>4</td>\n",
       "    </tr>\n",
       "    <tr>\n",
       "      <th>7</th>\n",
       "      <td>Magic Bay</td>\n",
       "      <td>Dario Lessing</td>\n",
       "      <td>[]</td>\n",
       "      <td>0.752</td>\n",
       "      <td>0.305</td>\n",
       "      <td>1</td>\n",
       "      <td>-13.819</td>\n",
       "      <td>0</td>\n",
       "      <td>0.0865</td>\n",
       "      <td>0.44900</td>\n",
       "      <td>0.9080</td>\n",
       "      <td>0.1240</td>\n",
       "      <td>0.4470</td>\n",
       "      <td>79.973</td>\n",
       "      <td>171267</td>\n",
       "      <td>4</td>\n",
       "    </tr>\n",
       "    <tr>\n",
       "      <th>8</th>\n",
       "      <td>Absence</td>\n",
       "      <td>Jinsang</td>\n",
       "      <td>['chillhop', 'japanese chillhop', 'korean r&amp;b'...</td>\n",
       "      <td>0.744</td>\n",
       "      <td>0.448</td>\n",
       "      <td>1</td>\n",
       "      <td>-9.514</td>\n",
       "      <td>0</td>\n",
       "      <td>0.0763</td>\n",
       "      <td>0.40900</td>\n",
       "      <td>0.8460</td>\n",
       "      <td>0.1130</td>\n",
       "      <td>0.4990</td>\n",
       "      <td>90.712</td>\n",
       "      <td>79915</td>\n",
       "      <td>4</td>\n",
       "    </tr>\n",
       "    <tr>\n",
       "      <th>9</th>\n",
       "      <td>Focus</td>\n",
       "      <td>Phlocalyst</td>\n",
       "      <td>['chillhop', 'lo-fi beats']</td>\n",
       "      <td>0.428</td>\n",
       "      <td>0.150</td>\n",
       "      <td>3</td>\n",
       "      <td>-20.066</td>\n",
       "      <td>1</td>\n",
       "      <td>0.0375</td>\n",
       "      <td>0.72000</td>\n",
       "      <td>0.9320</td>\n",
       "      <td>0.1090</td>\n",
       "      <td>0.0647</td>\n",
       "      <td>79.991</td>\n",
       "      <td>132000</td>\n",
       "      <td>4</td>\n",
       "    </tr>\n",
       "    <tr>\n",
       "      <th>10</th>\n",
       "      <td>Exploration</td>\n",
       "      <td>Saï T</td>\n",
       "      <td>[]</td>\n",
       "      <td>0.601</td>\n",
       "      <td>0.205</td>\n",
       "      <td>1</td>\n",
       "      <td>-10.409</td>\n",
       "      <td>1</td>\n",
       "      <td>0.0797</td>\n",
       "      <td>0.64800</td>\n",
       "      <td>0.8590</td>\n",
       "      <td>0.1150</td>\n",
       "      <td>0.0946</td>\n",
       "      <td>89.488</td>\n",
       "      <td>150168</td>\n",
       "      <td>4</td>\n",
       "    </tr>\n",
       "    <tr>\n",
       "      <th>11</th>\n",
       "      <td>Taidana</td>\n",
       "      <td>lōland</td>\n",
       "      <td>['lo-fi beats']</td>\n",
       "      <td>0.721</td>\n",
       "      <td>0.326</td>\n",
       "      <td>0</td>\n",
       "      <td>-9.639</td>\n",
       "      <td>1</td>\n",
       "      <td>0.1540</td>\n",
       "      <td>0.65500</td>\n",
       "      <td>0.8790</td>\n",
       "      <td>0.1120</td>\n",
       "      <td>0.3390</td>\n",
       "      <td>79.493</td>\n",
       "      <td>170992</td>\n",
       "      <td>1</td>\n",
       "    </tr>\n",
       "    <tr>\n",
       "      <th>12</th>\n",
       "      <td>Fiesta</td>\n",
       "      <td>frad</td>\n",
       "      <td>['lo-fi beats']</td>\n",
       "      <td>0.685</td>\n",
       "      <td>0.323</td>\n",
       "      <td>9</td>\n",
       "      <td>-16.922</td>\n",
       "      <td>0</td>\n",
       "      <td>0.3770</td>\n",
       "      <td>0.91400</td>\n",
       "      <td>0.8500</td>\n",
       "      <td>0.1030</td>\n",
       "      <td>0.4610</td>\n",
       "      <td>75.060</td>\n",
       "      <td>89600</td>\n",
       "      <td>4</td>\n",
       "    </tr>\n",
       "    <tr>\n",
       "      <th>13</th>\n",
       "      <td>Tokyo Lounge</td>\n",
       "      <td>Karmawin</td>\n",
       "      <td>['chillhop', 'jazz boom bap']</td>\n",
       "      <td>0.597</td>\n",
       "      <td>0.651</td>\n",
       "      <td>4</td>\n",
       "      <td>-10.333</td>\n",
       "      <td>0</td>\n",
       "      <td>0.0691</td>\n",
       "      <td>0.05600</td>\n",
       "      <td>0.6970</td>\n",
       "      <td>0.1120</td>\n",
       "      <td>0.0487</td>\n",
       "      <td>83.003</td>\n",
       "      <td>230779</td>\n",
       "      <td>4</td>\n",
       "    </tr>\n",
       "    <tr>\n",
       "      <th>14</th>\n",
       "      <td>Rawtuffelpuree</td>\n",
       "      <td>khaderbai</td>\n",
       "      <td>[]</td>\n",
       "      <td>0.722</td>\n",
       "      <td>0.314</td>\n",
       "      <td>7</td>\n",
       "      <td>-14.832</td>\n",
       "      <td>0</td>\n",
       "      <td>0.4530</td>\n",
       "      <td>0.34500</td>\n",
       "      <td>0.2940</td>\n",
       "      <td>0.2210</td>\n",
       "      <td>0.2680</td>\n",
       "      <td>168.059</td>\n",
       "      <td>154701</td>\n",
       "      <td>4</td>\n",
       "    </tr>\n",
       "  </tbody>\n",
       "</table>\n",
       "</div>"
      ],
      "text/plain": [
       "               Song Name    Artist Names  \\\n",
       "0            City Lounge            Saib   \n",
       "1           Sweet Dávila        Demouche   \n",
       "2     Do the Right Thing           Shuko   \n",
       "3   A Jazz Club in Paris  Clément Matrat   \n",
       "4              The Match    Bonus Points   \n",
       "5               Chillin'           twuan   \n",
       "6              Lazy Café      leaf beach   \n",
       "7              Magic Bay   Dario Lessing   \n",
       "8                Absence         Jinsang   \n",
       "9                  Focus      Phlocalyst   \n",
       "10           Exploration           Saï T   \n",
       "11               Taidana          lōland   \n",
       "12                Fiesta            frad   \n",
       "13          Tokyo Lounge        Karmawin   \n",
       "14        Rawtuffelpuree       khaderbai   \n",
       "\n",
       "                                         Artist Genre  danceability  energy  \\\n",
       "0    ['chillhop', 'japanese chillhop', 'lo-fi beats']         0.807   0.576   \n",
       "1                                                  []         0.873   0.417   \n",
       "2                                        ['chillhop']         0.815   0.738   \n",
       "3                                     ['focus beats']         0.751   0.173   \n",
       "4                       ['chillhop', 'jazz boom bap']         0.746   0.735   \n",
       "5                         ['chillhop', 'lo-fi beats']         0.642   0.197   \n",
       "6        ['chillhop', 'jazz boom bap', 'lo-fi beats']         0.666   0.150   \n",
       "7                                                  []         0.752   0.305   \n",
       "8   ['chillhop', 'japanese chillhop', 'korean r&b'...         0.744   0.448   \n",
       "9                         ['chillhop', 'lo-fi beats']         0.428   0.150   \n",
       "10                                                 []         0.601   0.205   \n",
       "11                                    ['lo-fi beats']         0.721   0.326   \n",
       "12                                    ['lo-fi beats']         0.685   0.323   \n",
       "13                      ['chillhop', 'jazz boom bap']         0.597   0.651   \n",
       "14                                                 []         0.722   0.314   \n",
       "\n",
       "    key  loudness  mode  speechiness  acousticness  instrumentalness  \\\n",
       "0     4   -10.158     0       0.2960       0.04190            0.9310   \n",
       "1     6    -8.771     1       0.0427       0.20300            0.0616   \n",
       "2     5    -7.469     1       0.0453       0.21300            0.8640   \n",
       "3    10   -13.138     0       0.0402       0.34900            0.6780   \n",
       "4     6    -8.026     1       0.0324       0.00675            0.1030   \n",
       "5     4   -14.052     0       0.0540       0.43500            0.8230   \n",
       "6     4   -11.735     0       0.0628       0.18500            0.8440   \n",
       "7     1   -13.819     0       0.0865       0.44900            0.9080   \n",
       "8     1    -9.514     0       0.0763       0.40900            0.8460   \n",
       "9     3   -20.066     1       0.0375       0.72000            0.9320   \n",
       "10    1   -10.409     1       0.0797       0.64800            0.8590   \n",
       "11    0    -9.639     1       0.1540       0.65500            0.8790   \n",
       "12    9   -16.922     0       0.3770       0.91400            0.8500   \n",
       "13    4   -10.333     0       0.0691       0.05600            0.6970   \n",
       "14    7   -14.832     0       0.4530       0.34500            0.2940   \n",
       "\n",
       "    liveness  valence    tempo  duration_ms  time_signature  \n",
       "0     0.1160   0.7710  169.999       158118               4  \n",
       "1     0.6960   0.8410   92.955       235696               4  \n",
       "2     0.2900   0.6330   91.024       121320               4  \n",
       "3     0.0684   0.3540   80.020        90492               3  \n",
       "4     0.1870   0.5900   94.772       144328               4  \n",
       "5     0.1110   0.2480  152.039        77241               4  \n",
       "6     0.0831   0.2470   87.050       145093               4  \n",
       "7     0.1240   0.4470   79.973       171267               4  \n",
       "8     0.1130   0.4990   90.712        79915               4  \n",
       "9     0.1090   0.0647   79.991       132000               4  \n",
       "10    0.1150   0.0946   89.488       150168               4  \n",
       "11    0.1120   0.3390   79.493       170992               1  \n",
       "12    0.1030   0.4610   75.060        89600               4  \n",
       "13    0.1120   0.0487   83.003       230779               4  \n",
       "14    0.2210   0.2680  168.059       154701               4  "
      ]
     },
     "execution_count": 8,
     "metadata": {},
     "output_type": "execute_result"
    }
   ],
   "source": [
    "df.head(15)"
   ]
  },
  {
   "cell_type": "code",
   "execution_count": 10,
   "metadata": {},
   "outputs": [
    {
     "data": {
      "text/html": [
       "<div>\n",
       "<style scoped>\n",
       "    .dataframe tbody tr th:only-of-type {\n",
       "        vertical-align: middle;\n",
       "    }\n",
       "\n",
       "    .dataframe tbody tr th {\n",
       "        vertical-align: top;\n",
       "    }\n",
       "\n",
       "    .dataframe thead th {\n",
       "        text-align: right;\n",
       "    }\n",
       "</style>\n",
       "<table border=\"1\" class=\"dataframe\">\n",
       "  <thead>\n",
       "    <tr style=\"text-align: right;\">\n",
       "      <th></th>\n",
       "      <th>Song Name</th>\n",
       "      <th>Artist Names</th>\n",
       "      <th>Artist Genre</th>\n",
       "    </tr>\n",
       "  </thead>\n",
       "  <tbody>\n",
       "    <tr>\n",
       "      <th>count</th>\n",
       "      <td>1662</td>\n",
       "      <td>1662</td>\n",
       "      <td>1662</td>\n",
       "    </tr>\n",
       "    <tr>\n",
       "      <th>unique</th>\n",
       "      <td>1619</td>\n",
       "      <td>1065</td>\n",
       "      <td>440</td>\n",
       "    </tr>\n",
       "    <tr>\n",
       "      <th>top</th>\n",
       "      <td>Sleepless</td>\n",
       "      <td>HM Surf</td>\n",
       "      <td>[]</td>\n",
       "    </tr>\n",
       "    <tr>\n",
       "      <th>freq</th>\n",
       "      <td>3</td>\n",
       "      <td>9</td>\n",
       "      <td>373</td>\n",
       "    </tr>\n",
       "  </tbody>\n",
       "</table>\n",
       "</div>"
      ],
      "text/plain": [
       "        Song Name Artist Names Artist Genre\n",
       "count        1662         1662         1662\n",
       "unique       1619         1065          440\n",
       "top     Sleepless      HM Surf           []\n",
       "freq            3            9          373"
      ]
     },
     "execution_count": 10,
     "metadata": {},
     "output_type": "execute_result"
    }
   ],
   "source": [
    "df.describe(include=['object'])"
   ]
  },
  {
   "cell_type": "code",
   "execution_count": 6,
   "metadata": {},
   "outputs": [
    {
     "ename": "NameError",
     "evalue": "name 'df' is not defined",
     "output_type": "error",
     "traceback": [
      "\u001b[1;31m---------------------------------------------------------------------------\u001b[0m",
      "\u001b[1;31mNameError\u001b[0m                                 Traceback (most recent call last)",
      "\u001b[1;32m<ipython-input-6-0be69724d050>\u001b[0m in \u001b[0;36m<module>\u001b[1;34m\u001b[0m\n\u001b[1;32m----> 1\u001b[1;33m \u001b[0mdf\u001b[0m\u001b[1;33m.\u001b[0m\u001b[0menergy\u001b[0m\u001b[1;33m.\u001b[0m\u001b[0mhist\u001b[0m\u001b[1;33m(\u001b[0m\u001b[1;33m)\u001b[0m\u001b[1;33m\u001b[0m\u001b[1;33m\u001b[0m\u001b[0m\n\u001b[0m",
      "\u001b[1;31mNameError\u001b[0m: name 'df' is not defined"
     ]
    }
   ],
   "source": [
    "df.energy.hist()"
   ]
  },
  {
   "cell_type": "code",
   "execution_count": 13,
   "metadata": {},
   "outputs": [
    {
     "data": {
      "text/plain": [
       "<AxesSubplot:>"
      ]
     },
     "execution_count": 13,
     "metadata": {},
     "output_type": "execute_result"
    },
    {
     "data": {
      "image/png": "[encoded data removed]",
      "text/plain": [
       "<Figure size 432x288 with 1 Axes>"
      ]
     },
     "metadata": {
      "needs_background": "light"
     },
     "output_type": "display_data"
    }
   ],
   "source": [
    "df.danceability.hist()"
   ]
  },
  {
   "cell_type": "code",
   "execution_count": 14,
   "metadata": {},
   "outputs": [
    {
     "data": {
      "text/plain": [
       "<AxesSubplot:>"
      ]
     },
     "execution_count": 14,
     "metadata": {},
     "output_type": "execute_result"
    },
    {
     "data": {
      "image/png": "[encoded data removed]",
      "text/plain": [
       "<Figure size 432x288 with 1 Axes>"
      ]
     },
     "metadata": {
      "needs_background": "light"
     },
     "output_type": "display_data"
    }
   ],
   "source": [
    "df.key.hist()"
   ]
  },
  {
   "cell_type": "code",
   "execution_count": 15,
   "metadata": {},
   "outputs": [
    {
     "data": {
      "text/plain": [
       "<AxesSubplot:>"
      ]
     },
     "execution_count": 15,
     "metadata": {},
     "output_type": "execute_result"
    },
    {
     "data": {
      "image/png": "[encoded data removed]",
      "text/plain": [
       "<Figure size 432x288 with 1 Axes>"
      ]
     },
     "metadata": {
      "needs_background": "light"
     },
     "output_type": "display_data"
    }
   ],
   "source": [
    "df.loudness.hist()"
   ]
  },
  {
   "cell_type": "code",
   "execution_count": 16,
   "metadata": {},
   "outputs": [
    {
     "data": {
      "text/plain": [
       "<AxesSubplot:>"
      ]
     },
     "execution_count": 16,
     "metadata": {},
     "output_type": "execute_result"
    },
    {
     "data": {
      "image/png": "[encoded data removed]",
      "text/plain": [
       "<Figure size 432x288 with 1 Axes>"
      ]
     },
     "metadata": {
      "needs_background": "light"
     },
     "output_type": "display_data"
    }
   ],
   "source": [
    "df.acousticness.hist()"
   ]
  },
  {
   "cell_type": "code",
   "execution_count": 17,
   "metadata": {},
   "outputs": [
    {
     "data": {
      "text/plain": [
       "<AxesSubplot:>"
      ]
     },
     "execution_count": 17,
     "metadata": {},
     "output_type": "execute_result"
    },
    {
     "data": {
      "image/png": "[encoded data removed]",
      "text/plain": [
       "<Figure size 432x288 with 1 Axes>"
      ]
     },
     "metadata": {
      "needs_background": "light"
     },
     "output_type": "display_data"
    }
   ],
   "source": [
    "df.instrumentalness.hist()"
   ]
  },
  {
   "cell_type": "code",
   "execution_count": 18,
   "metadata": {},
   "outputs": [
    {
     "data": {
      "text/plain": [
       "<AxesSubplot:>"
      ]
     },
     "execution_count": 18,
     "metadata": {},
     "output_type": "execute_result"
    },
    {
     "data": {
      "image/png": "[encoded data removed]",
      "text/plain": [
       "<Figure size 432x288 with 1 Axes>"
      ]
     },
     "metadata": {
      "needs_background": "light"
     },
     "output_type": "display_data"
    }
   ],
   "source": [
    "df.liveness.hist()"
   ]
  },
  {
   "cell_type": "code",
   "execution_count": 19,
   "metadata": {},
   "outputs": [
    {
     "data": {
      "text/plain": [
       "<AxesSubplot:>"
      ]
     },
     "execution_count": 19,
     "metadata": {},
     "output_type": "execute_result"
    },
    {
     "data": {
      "image/png": "[encoded data removed]",
      "text/plain": [
       "<Figure size 432x288 with 1 Axes>"
      ]
     },
     "metadata": {
      "needs_background": "light"
     },
     "output_type": "display_data"
    }
   ],
   "source": [
    "df.valence.hist()"
   ]
  },
  {
   "cell_type": "code",
   "execution_count": 20,
   "metadata": {},
   "outputs": [
    {
     "data": {
      "text/html": [
       "<div>\n",
       "<style scoped>\n",
       "    .dataframe tbody tr th:only-of-type {\n",
       "        vertical-align: middle;\n",
       "    }\n",
       "\n",
       "    .dataframe tbody tr th {\n",
       "        vertical-align: top;\n",
       "    }\n",
       "\n",
       "    .dataframe thead th {\n",
       "        text-align: right;\n",
       "    }\n",
       "</style>\n",
       "<table border=\"1\" class=\"dataframe\">\n",
       "  <thead>\n",
       "    <tr style=\"text-align: right;\">\n",
       "      <th></th>\n",
       "      <th>danceability</th>\n",
       "      <th>energy</th>\n",
       "      <th>key</th>\n",
       "      <th>loudness</th>\n",
       "      <th>mode</th>\n",
       "      <th>speechiness</th>\n",
       "      <th>acousticness</th>\n",
       "      <th>instrumentalness</th>\n",
       "      <th>liveness</th>\n",
       "      <th>valence</th>\n",
       "    </tr>\n",
       "  </thead>\n",
       "  <tbody>\n",
       "    <tr>\n",
       "      <th>danceability</th>\n",
       "      <td>1.000000</td>\n",
       "      <td>-0.114265</td>\n",
       "      <td>0.003759</td>\n",
       "      <td>0.058981</td>\n",
       "      <td>-0.038897</td>\n",
       "      <td>0.206908</td>\n",
       "      <td>-0.094464</td>\n",
       "      <td>-0.027483</td>\n",
       "      <td>-0.121403</td>\n",
       "      <td>0.231119</td>\n",
       "    </tr>\n",
       "    <tr>\n",
       "      <th>energy</th>\n",
       "      <td>-0.114265</td>\n",
       "      <td>1.000000</td>\n",
       "      <td>0.010104</td>\n",
       "      <td>0.750735</td>\n",
       "      <td>0.056314</td>\n",
       "      <td>-0.026764</td>\n",
       "      <td>-0.626814</td>\n",
       "      <td>-0.571829</td>\n",
       "      <td>0.127241</td>\n",
       "      <td>0.322120</td>\n",
       "    </tr>\n",
       "    <tr>\n",
       "      <th>key</th>\n",
       "      <td>0.003759</td>\n",
       "      <td>0.010104</td>\n",
       "      <td>1.000000</td>\n",
       "      <td>-0.015306</td>\n",
       "      <td>-0.163516</td>\n",
       "      <td>0.044260</td>\n",
       "      <td>-0.007456</td>\n",
       "      <td>0.020548</td>\n",
       "      <td>0.040401</td>\n",
       "      <td>-0.015290</td>\n",
       "    </tr>\n",
       "    <tr>\n",
       "      <th>loudness</th>\n",
       "      <td>0.058981</td>\n",
       "      <td>0.750735</td>\n",
       "      <td>-0.015306</td>\n",
       "      <td>1.000000</td>\n",
       "      <td>0.032729</td>\n",
       "      <td>-0.007884</td>\n",
       "      <td>-0.556737</td>\n",
       "      <td>-0.527648</td>\n",
       "      <td>0.065118</td>\n",
       "      <td>0.276064</td>\n",
       "    </tr>\n",
       "    <tr>\n",
       "      <th>mode</th>\n",
       "      <td>-0.038897</td>\n",
       "      <td>0.056314</td>\n",
       "      <td>-0.163516</td>\n",
       "      <td>0.032729</td>\n",
       "      <td>1.000000</td>\n",
       "      <td>-0.093208</td>\n",
       "      <td>-0.021589</td>\n",
       "      <td>-0.086647</td>\n",
       "      <td>0.005031</td>\n",
       "      <td>0.049375</td>\n",
       "    </tr>\n",
       "    <tr>\n",
       "      <th>speechiness</th>\n",
       "      <td>0.206908</td>\n",
       "      <td>-0.026764</td>\n",
       "      <td>0.044260</td>\n",
       "      <td>-0.007884</td>\n",
       "      <td>-0.093208</td>\n",
       "      <td>1.000000</td>\n",
       "      <td>0.005595</td>\n",
       "      <td>-0.109919</td>\n",
       "      <td>0.008519</td>\n",
       "      <td>0.114799</td>\n",
       "    </tr>\n",
       "    <tr>\n",
       "      <th>acousticness</th>\n",
       "      <td>-0.094464</td>\n",
       "      <td>-0.626814</td>\n",
       "      <td>-0.007456</td>\n",
       "      <td>-0.556737</td>\n",
       "      <td>-0.021589</td>\n",
       "      <td>0.005595</td>\n",
       "      <td>1.000000</td>\n",
       "      <td>0.529211</td>\n",
       "      <td>-0.076975</td>\n",
       "      <td>-0.230957</td>\n",
       "    </tr>\n",
       "    <tr>\n",
       "      <th>instrumentalness</th>\n",
       "      <td>-0.027483</td>\n",
       "      <td>-0.571829</td>\n",
       "      <td>0.020548</td>\n",
       "      <td>-0.527648</td>\n",
       "      <td>-0.086647</td>\n",
       "      <td>-0.109919</td>\n",
       "      <td>0.529211</td>\n",
       "      <td>1.000000</td>\n",
       "      <td>-0.077180</td>\n",
       "      <td>-0.190009</td>\n",
       "    </tr>\n",
       "    <tr>\n",
       "      <th>liveness</th>\n",
       "      <td>-0.121403</td>\n",
       "      <td>0.127241</td>\n",
       "      <td>0.040401</td>\n",
       "      <td>0.065118</td>\n",
       "      <td>0.005031</td>\n",
       "      <td>0.008519</td>\n",
       "      <td>-0.076975</td>\n",
       "      <td>-0.077180</td>\n",
       "      <td>1.000000</td>\n",
       "      <td>0.042278</td>\n",
       "    </tr>\n",
       "    <tr>\n",
       "      <th>valence</th>\n",
       "      <td>0.231119</td>\n",
       "      <td>0.322120</td>\n",
       "      <td>-0.015290</td>\n",
       "      <td>0.276064</td>\n",
       "      <td>0.049375</td>\n",
       "      <td>0.114799</td>\n",
       "      <td>-0.230957</td>\n",
       "      <td>-0.190009</td>\n",
       "      <td>0.042278</td>\n",
       "      <td>1.000000</td>\n",
       "    </tr>\n",
       "  </tbody>\n",
       "</table>\n",
       "</div>"
      ],
      "text/plain": [
       "                  danceability    energy       key  loudness      mode  \\\n",
       "danceability          1.000000 -0.114265  0.003759  0.058981 -0.038897   \n",
       "energy               -0.114265  1.000000  0.010104  0.750735  0.056314   \n",
       "key                   0.003759  0.010104  1.000000 -0.015306 -0.163516   \n",
       "loudness              0.058981  0.750735 -0.015306  1.000000  0.032729   \n",
       "mode                 -0.038897  0.056314 -0.163516  0.032729  1.000000   \n",
       "speechiness           0.206908 -0.026764  0.044260 -0.007884 -0.093208   \n",
       "acousticness         -0.094464 -0.626814 -0.007456 -0.556737 -0.021589   \n",
       "instrumentalness     -0.027483 -0.571829  0.020548 -0.527648 -0.086647   \n",
       "liveness             -0.121403  0.127241  0.040401  0.065118  0.005031   \n",
       "valence               0.231119  0.322120 -0.015290  0.276064  0.049375   \n",
       "\n",
       "                  speechiness  acousticness  instrumentalness  liveness  \\\n",
       "danceability         0.206908     -0.094464         -0.027483 -0.121403   \n",
       "energy              -0.026764     -0.626814         -0.571829  0.127241   \n",
       "key                  0.044260     -0.007456          0.020548  0.040401   \n",
       "loudness            -0.007884     -0.556737         -0.527648  0.065118   \n",
       "mode                -0.093208     -0.021589         -0.086647  0.005031   \n",
       "speechiness          1.000000      0.005595         -0.109919  0.008519   \n",
       "acousticness         0.005595      1.000000          0.529211 -0.076975   \n",
       "instrumentalness    -0.109919      0.529211          1.000000 -0.077180   \n",
       "liveness             0.008519     -0.076975         -0.077180  1.000000   \n",
       "valence              0.114799     -0.230957         -0.190009  0.042278   \n",
       "\n",
       "                   valence  \n",
       "danceability      0.231119  \n",
       "energy            0.322120  \n",
       "key              -0.015290  \n",
       "loudness          0.276064  \n",
       "mode              0.049375  \n",
       "speechiness       0.114799  \n",
       "acousticness     -0.230957  \n",
       "instrumentalness -0.190009  \n",
       "liveness          0.042278  \n",
       "valence           1.000000  "
      ]
     },
     "execution_count": 20,
     "metadata": {},
     "output_type": "execute_result"
    }
   ],
   "source": [
    "df[['danceability', 'energy', 'key', 'loudness', 'mode', 'speechiness', 'acousticness', 'instrumentalness', 'liveness', 'valence']].corr()"
   ]
  },
  {
   "cell_type": "code",
   "execution_count": 21,
   "metadata": {},
   "outputs": [
    {
     "data": {
      "text/plain": [
       "<AxesSubplot:>"
      ]
     },
     "execution_count": 21,
     "metadata": {},
     "output_type": "execute_result"
    },
    {
     "data": {
      "image/png": "[encoded data removed]",
      "text/plain": [
       "<Figure size 432x288 with 2 Axes>"
      ]
     },
     "metadata": {
      "needs_background": "light"
     },
     "output_type": "display_data"
    }
   ],
   "source": [
    "cmap = sns.diverging_palette(220, 10, as_cmap = True)\n",
    "sns.heatmap(df[['danceability', 'energy', 'key', 'loudness', 'mode', 'speechiness', 'acousticness', 'instrumentalness', 'liveness', 'valence']].corr(),\n",
    "           vmax = .3, center = 0, cmap = cmap,\n",
    "           square = True, linewidths = .5, cbar_kws = {\"shrink\": .5})"
   ]
  },
  {
   "cell_type": "code",
   "execution_count": 11,
   "metadata": {},
   "outputs": [
    {
     "data": {
      "text/html": [
       "<div>\n",
       "<style scoped>\n",
       "    .dataframe tbody tr th:only-of-type {\n",
       "        vertical-align: middle;\n",
       "    }\n",
       "\n",
       "    .dataframe tbody tr th {\n",
       "        vertical-align: top;\n",
       "    }\n",
       "\n",
       "    .dataframe thead th {\n",
       "        text-align: right;\n",
       "    }\n",
       "</style>\n",
       "<table border=\"1\" class=\"dataframe\">\n",
       "  <thead>\n",
       "    <tr style=\"text-align: right;\">\n",
       "      <th></th>\n",
       "      <th>energy</th>\n",
       "    </tr>\n",
       "    <tr>\n",
       "      <th>danceability</th>\n",
       "      <th></th>\n",
       "    </tr>\n",
       "  </thead>\n",
       "  <tbody>\n",
       "    <tr>\n",
       "      <th>0.000</th>\n",
       "      <td>0.2780</td>\n",
       "    </tr>\n",
       "    <tr>\n",
       "      <th>0.179</th>\n",
       "      <td>0.9120</td>\n",
       "    </tr>\n",
       "    <tr>\n",
       "      <th>0.187</th>\n",
       "      <td>0.1460</td>\n",
       "    </tr>\n",
       "    <tr>\n",
       "      <th>0.188</th>\n",
       "      <td>0.0663</td>\n",
       "    </tr>\n",
       "    <tr>\n",
       "      <th>0.210</th>\n",
       "      <td>0.2000</td>\n",
       "    </tr>\n",
       "    <tr>\n",
       "      <th>...</th>\n",
       "      <td>...</td>\n",
       "    </tr>\n",
       "    <tr>\n",
       "      <th>0.957</th>\n",
       "      <td>0.6020</td>\n",
       "    </tr>\n",
       "    <tr>\n",
       "      <th>0.958</th>\n",
       "      <td>0.3460</td>\n",
       "    </tr>\n",
       "    <tr>\n",
       "      <th>0.964</th>\n",
       "      <td>0.5055</td>\n",
       "    </tr>\n",
       "    <tr>\n",
       "      <th>0.968</th>\n",
       "      <td>0.6220</td>\n",
       "    </tr>\n",
       "    <tr>\n",
       "      <th>0.979</th>\n",
       "      <td>0.4055</td>\n",
       "    </tr>\n",
       "  </tbody>\n",
       "</table>\n",
       "<p>542 rows × 1 columns</p>\n",
       "</div>"
      ],
      "text/plain": [
       "              energy\n",
       "danceability        \n",
       "0.000         0.2780\n",
       "0.179         0.9120\n",
       "0.187         0.1460\n",
       "0.188         0.0663\n",
       "0.210         0.2000\n",
       "...              ...\n",
       "0.957         0.6020\n",
       "0.958         0.3460\n",
       "0.964         0.5055\n",
       "0.968         0.6220\n",
       "0.979         0.4055\n",
       "\n",
       "[542 rows x 1 columns]"
      ]
     },
     "execution_count": 11,
     "metadata": {},
     "output_type": "execute_result"
    }
   ],
   "source": [
    "pd.pivot_table(df, index = \"danceability\", values = \"energy\")"
   ]
  },
  {
   "cell_type": "code",
   "execution_count": 30,
   "metadata": {},
   "outputs": [
    {
     "data": {
      "text/plain": [
       "lo-fi beats               504\n",
       "chillhop                  331\n",
       "rock                      165\n",
       "pop                       138\n",
       "classic rock              126\n",
       "                         ... \n",
       "latin viral pop             1\n",
       "australian electropop       1\n",
       "trance                      1\n",
       "australian pop              1\n",
       "south carolina hip hop      1\n",
       "Length: 386, dtype: int64"
      ]
     },
     "execution_count": 30,
     "metadata": {},
     "output_type": "execute_result"
    }
   ],
   "source": [
    "# df[\"Artist Genre\"] = df[\"Artist Genre\"].apply(eval)\n",
    "\n",
    "pd.Series([x for _list in df[\"Artist Genre\"] for x in _list]).value_counts()"
   ]
  },
  {
   "cell_type": "code",
   "execution_count": null,
   "metadata": {},
   "outputs": [],
   "source": []
  }
 ],
 "metadata": {
  "kernelspec": {
   "display_name": "Python 3",
   "language": "python",
   "name": "python3"
  },
  "language_info": {
   "codemirror_mode": {
    "name": "ipython",
    "version": 3
   },
   "file_extension": ".py",
   "mimetype": "text/x-python",
   "name": "python",
   "nbconvert_exporter": "python",
   "pygments_lexer": "ipython3",
   "version": "3.8.3"
  }
 },
 "nbformat": 4,
 "nbformat_minor": 4
}
